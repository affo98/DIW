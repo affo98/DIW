{
 "cells": [
  {
   "cell_type": "code",
   "execution_count": null,
   "metadata": {},
   "outputs": [],
   "source": [
    "import pandas as pd\n",
    "import matplotlib.pyplot as plt\n",
    "import matplotlib.dates as mdates\n",
    "import numpy as np"
   ]
  },
  {
   "cell_type": "code",
   "execution_count": null,
   "metadata": {},
   "outputs": [],
   "source": [
    "dmeeting = pd.read_parquet('./data/data_meeting.parquet')\n",
    "dagenda = pd.read_parquet('./data/data_agenda.parquet')\n",
    "data_speech1 = pd.read_parquet('./data/data_speech1.parquet')\n",
    "data_speech2 = pd.read_parquet('./data/data_speech2.parquet')\n",
    "data_speech3 = pd.read_parquet('./data/data_speech3.parquet')\n",
    "parMem = pd.read_parquet('./data/parliament_members.parquet')\n",
    "\n",
    "dspeech = pd.concat([data_speech1, data_speech2, data_speech3], axis=0)"
   ]
  },
  {
   "cell_type": "code",
   "execution_count": null,
   "metadata": {},
   "outputs": [],
   "source": [
    "\n",
    "# group by meeting_id and agenda_item_id to count the number of speeches per agenda item per meeting and how many of those are labeled as NC vs C\n",
    "plot_df = dspeech[[\"meeting_id\", \"agenda_item_id\", \"speech_item_id\", \"label\"]]\n",
    "\n",
    "# Custom aggregation function to calculate NC to C ratio\n",
    "def c_nc_ratio(group):\n",
    "    nc_count = sum(group == 'NC')\n",
    "    c_count = sum(group == 'C')\n",
    "    return (c_count / (nc_count+c_count))*100 if nc_count != 0 else 0  # Avoid division by zero\n",
    "\n",
    "# Group by meeting_id and agenda_item_id, and apply the aggregations\n",
    "plot_df = plot_df.groupby([\"meeting_id\", \"agenda_item_id\"]).agg(\n",
    "    num_speech_items=(\"speech_item_id\", \"count\"),\n",
    "    C_NC_ratio=(\"label\", c_nc_ratio)\n",
    ").reset_index()"
   ]
  },
  {
   "cell_type": "code",
   "execution_count": null,
   "metadata": {},
   "outputs": [],
   "source": [
    "plot_df = pd.merge(plot_df, dagenda[[\"meeting_id\",\"agenda_item_id\"]], on=[\"meeting_id\",\"agenda_item_id\"])\n",
    "plot_df = pd.merge(plot_df, dmeeting[[\"meeting_id\",\"date\"]], on=\"meeting_id\")\n",
    "# plot_df = plot_df.groupby(\"meeting_id\").agg(num_speech_items=(\"num_speech_items\", \"sum\"), C_NC_ratio=(\"C_NC_ratio\", \"sum\"), date=(\"date\",\"first\")).reset_index()\n",
    "# plot_df[\"num_speech_items\"] = plot_df[\"num_speech_items\"].apply(lambda x: (x/np.sum(plot_df[\"num_speech_items\"])*100))\n",
    "# Convert 'date' to datetime and set as index\n",
    "plot_df['date'] = pd.to_datetime(plot_df['date'])\n",
    "plot_df.set_index('date', inplace=True)"
   ]
  },
  {
   "cell_type": "code",
   "execution_count": null,
   "metadata": {},
   "outputs": [],
   "source": [
    "\n",
    "weekly_df = plot_df['C_NC_ratio'].resample('W').mean()\n",
    "weekly_df.interpolate(inplace=True)"
   ]
  },
  {
   "cell_type": "code",
   "execution_count": null,
   "metadata": {},
   "outputs": [],
   "source": [
    "# Plot the rolling averages with custom labels\n",
    "ax = weekly_df.rolling(window=12, center=True).mean().plot(color='lightblue', linewidth=1, fontsize=20, label='12-Week Rolling Average')\n",
    "weekly_df.rolling(window=52, center=True).mean().plot(ax=ax, figsize=(20, 10), linewidth=5, fontsize=20, color='green', label='52-Week Rolling Average')\n",
    "\n",
    "# Election dates\n",
    "fv_elections = ['2022-11-01', '2019-06-05', '2015-06-18', '2011-09-15']\n",
    "\n",
    "# Plotting vertical lines for election dates\n",
    "for i, fv_election in enumerate(fv_elections):\n",
    "    date = pd.to_datetime(fv_election)\n",
    "    plt.axvline(date, color='red', linestyle='dashdot', linewidth=1, alpha=0.9, label='General Election' if i == 0 else \"\")\n",
    "    \n",
    "    # Annotating the line\n",
    "    plt.text(date, plt.gca().get_ylim()[1], fv_election, verticalalignment='bottom', horizontalalignment='right', color='red', alpha=0.9)\n",
    "\n",
    "\n",
    "# Manually setting x-ticks to each year from 2007 to 2023\n",
    "years = pd.date_range(start='2008-01-01', end='2023-01-01', freq='YS')\n",
    "ax.set_xticks(years)\n",
    "ax.set_xticklabels([year.strftime('%Y') for year in years], rotation=45)\n",
    "\n",
    "# Adding a custom legend, setting labels\n",
    "plt.legend(fontsize=13)\n",
    "plt.ylabel(\"%\", fontsize=20, rotation=0, labelpad=20)\n",
    "plt.xlabel(\"\", fontsize=20)\n",
    "\n",
    "# Show the plot\n",
    "plt.show()\n",
    "plt.savefig('./figures/general_climate_trend.svg', format='svg')\n"
   ]
  },
  {
   "cell_type": "markdown",
   "metadata": {},
   "source": [
    "## Andreas"
   ]
  },
  {
   "cell_type": "markdown",
   "metadata": {},
   "source": [
    "## Eisuke"
   ]
  },
  {
   "cell_type": "markdown",
   "metadata": {},
   "source": [
    "## Anders"
   ]
  }
 ],
 "metadata": {
  "kernelspec": {
   "display_name": "diw_project",
   "language": "python",
   "name": "python3"
  },
  "language_info": {
   "codemirror_mode": {
    "name": "ipython",
    "version": 3
   },
   "file_extension": ".py",
   "mimetype": "text/x-python",
   "name": "python",
   "nbconvert_exporter": "python",
   "pygments_lexer": "ipython3",
   "version": "3.10.4"
  }
 },
 "nbformat": 4,
 "nbformat_minor": 2
}
