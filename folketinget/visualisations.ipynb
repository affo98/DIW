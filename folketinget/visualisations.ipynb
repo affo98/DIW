{
 "cells": [
  {
   "cell_type": "code",
   "execution_count": null,
   "metadata": {},
   "outputs": [],
   "source": [
    "import pandas as pd\n",
    "import matplotlib.pyplot as plt\n",
    "import numpy as np\n",
    "import seaborn as sns"
   ]
  },
  {
   "cell_type": "code",
   "execution_count": null,
   "metadata": {},
   "outputs": [],
   "source": [
    "dmeeting = pd.read_parquet('./data/data_meeting.parquet')\n",
    "dagenda = pd.read_parquet('./data/data_agenda.parquet')\n",
    "data_speech1 = pd.read_parquet('./data/data_speech1.parquet')\n",
    "data_speech2 = pd.read_parquet('./data/data_speech2.parquet')\n",
    "data_speech3 = pd.read_parquet('./data/data_speech3.parquet')\n",
    "parMem = pd.read_parquet('./data/parliament_members.parquet')\n",
    "\n",
    "dspeech = pd.concat([data_speech1, data_speech2, data_speech3], axis=0)"
   ]
  },
  {
   "cell_type": "markdown",
   "metadata": {},
   "source": [
    "## Andreas"
   ]
  },
  {
   "cell_type": "markdown",
   "metadata": {},
   "source": [
    "## Eisuke"
   ]
  },
  {
   "cell_type": "markdown",
   "metadata": {},
   "source": [
    "## Anders"
   ]
  },
  {
   "cell_type": "markdown",
   "metadata": {},
   "source": [
    "## Relative Party"
   ]
  },
  {
   "cell_type": "code",
   "execution_count": null,
   "metadata": {},
   "outputs": [],
   "source": [
    "dspeech = pd.merge(dspeech, dmeeting[['meeting_id', 'date']], on = 'meeting_id')\n",
    "dspeech['year'] = dspeech['date'].dt.to_period('Y')\n",
    "dspeech = dspeech[dspeech['speaker_party'].isin(['S', 'DF', 'ALT', 'DD', 'EL', 'FG', 'KD', 'KF', 'LA', 'M', 'NB', 'RV', 'S', 'SF', 'V'])]"
   ]
  },
  {
   "cell_type": "code",
   "execution_count": null,
   "metadata": {},
   "outputs": [],
   "source": [
    "weekly_ag = pd.DataFrame(columns=['date', 'speaker_party', 'percent_C', 'MA52'])\n",
    "\n",
    "for party in dspeech['speaker_party'].unique().tolist():\n",
    "    weekly = dspeech[dspeech['speaker_party']==party].groupby(dspeech['date'].dt.to_period('M')).agg(\n",
    "        count_C=('label', lambda x: (x == 'C').sum()),\n",
    "        count_NC=('label', lambda x: (x == 'NC').sum())\n",
    "    )\n",
    "    weekly['percent_C'] = (weekly['count_C'] / (weekly['count_C'] + weekly['count_NC'])) * 100\n",
    "    weekly = weekly.reset_index()\n",
    "    weekly['date'] = weekly['date'].dt.to_timestamp()\n",
    "    weekly['MA52'] = weekly['percent_C'].rolling(window=48, center=True, min_periods=1).mean()\n",
    "    weekly['speaker_party'] = party\n",
    "    weekly_ag = pd.concat([weekly_ag, weekly])\n",
    "\n",
    "first_MA52 = weekly_ag.groupby('speaker_party')['MA52'].transform('first')    \n",
    "mean_MA52 = weekly_ag.groupby('speaker_party')['MA52'].transform('mean')\n",
    "weekly_ag['percent_C_relative'] = (weekly_ag['MA52'] / first_MA52 -1) * 100\n",
    "weekly_ag['percent_C_relative_all'] = (weekly_ag['MA52'] / mean_MA52 -1 ) * 100\n",
    "\n",
    "\n",
    "# def mean_of_first_three(series):\n",
    "#     return series.head(12).mean()\n",
    "\n",
    "# mean_first_three_MA52 = weekly_ag.groupby('speaker_party')['MA52'].transform(mean_of_first_three)\n",
    "# weekly_ag['mean_first_three_MA52'] = mean_first_three_MA52\n",
    "# weekly_ag['percent_C_relative_first_threeM'] = (weekly_ag['MA52'] / weekly_ag['mean_first_three_MA52'] -1) * 100"
   ]
  },
  {
   "cell_type": "code",
   "execution_count": null,
   "metadata": {},
   "outputs": [],
   "source": [
    "#Colors from here https://gist.github.com/josiahayres-ibm/9ddc2413ee61b56f915ba602f2b9305d\n",
    "carbon_categorical_light = [\"#6929c4\", \"#1192e8\", \"#005d5d\",\"#9f1853\",\"#fa4d56\",\"#570408\",\"#198038\",\"#002d9c\",\"#ee538b\",\"#b28600\",\"#009d9a\",\"#012749\",\"#8a3800\",\"#a56eff\"]\n",
    "sns.set_palette(carbon_categorical_light)\n",
    "sns.palplot(sns.color_palette())"
   ]
  },
  {
   "cell_type": "code",
   "execution_count": null,
   "metadata": {},
   "outputs": [],
   "source": [
    "weekly_ag = weekly_ag[~weekly_ag['speaker_party'].isin(['M', 'KD', 'DD', 'FG'])]\n",
    "\n",
    "from matplotlib.dates import YearLocator, DateFormatter\n",
    "from matplotlib.ticker import MultipleLocator, FuncFormatter\n",
    "plt.figure(figsize=(12, 12))\n",
    "sns.lineplot(x='date', y='percent_C_relative', hue='speaker_party', marker=None,  data=weekly_ag, legend=False, palette=carbon_categorical_light)\n",
    "plt.axhline(y=0, color='black', linestyle='--', linewidth=1)\n",
    "plt.ylabel('% Climate related speech items relative to baseline', fontsize=16)\n",
    "plt.xlabel(None) \n",
    "\n",
    "ax = plt.gca()\n",
    "ax.xaxis.set_major_locator(YearLocator())\n",
    "ax.xaxis.set_major_formatter(DateFormatter('%Y'))\n",
    "plt.xticks(rotation=45, ha='center')\n",
    "\n",
    "def percentage_formatter(x, pos):\n",
    "    return f\"{x:.0f}%\"\n",
    "\n",
    "ax.yaxis.set_major_locator(MultipleLocator(20))\n",
    "ax.yaxis.set_major_formatter(FuncFormatter(percentage_formatter))\n",
    "ax.tick_params(axis='both', which='major', labelsize=14) \n",
    "plt.tight_layout()\n",
    "for party in weekly_ag['speaker_party'].unique():\n",
    "    last_data_point = weekly_ag.loc[weekly_ag['speaker_party'] == party].iloc[-1]\n",
    "    plt.annotate(party, (last_data_point['date'], last_data_point['percent_C_relative']),\n",
    "                 textcoords=\"offset points\", xytext=(25,0), ha='right', fontsize=14, color='black')\n",
    "#plt.savefig('./figures/parties_change_final.svg', format='svg')"
   ]
  },
  {
   "cell_type": "markdown",
   "metadata": {},
   "source": [
    "## Overall party"
   ]
  },
  {
   "cell_type": "code",
   "execution_count": null,
   "metadata": {},
   "outputs": [],
   "source": [
    "party_name_mapping = {\n",
    "    'FG':'Frie Grønne',\n",
    "    'ALT':'Alternativet',\n",
    "    'M':'Moderaterne',\n",
    "    'SF':'Socialistisk Folkeparti',\n",
    "    'EL':'Enhedslisten',\n",
    "    'RV':'Radikale Venstre',\n",
    "    'V':'Venstre',\n",
    "    'S':'Socialdemokratiet',\n",
    "    'DD':'Danmarks Demokratterne',\n",
    "    'KF':'Konservative Folkeparti',\n",
    "    'LA':'Liberal Alliance',\n",
    "    'NB':'Nye Borgerlige',\n",
    "    'DF':'Dansk Folkeparti',\n",
    "    'KD':'Kristendemokraterne',  \n",
    "}\n",
    "\n",
    "party = dspeech.groupby(['speaker_party']).agg(\n",
    "    count_C=('label', lambda x: (x == 'C').sum()),\n",
    "    count_NC=('label', lambda x: (x == 'NC').sum())\n",
    ")\n",
    "party['percent_C'] = (party['count_C'] / (party['count_C']+party['count_NC']))*100\n",
    "party['percent_C_mean_centered'] = party['percent_C'] - party['percent_C'].mean()\n",
    "#party['colors'] = [sns.xkcd_rgb['medium green'] if val >= 0 else sns.xkcd_rgb['amber'] for val in party['percent_C_mean_centered']]\n",
    "\n",
    "party = party.reset_index()\n",
    "party['speaker_party_new'] = party['speaker_party'].replace(party_name_mapping)\n",
    "\n",
    "party['rank'] = party['percent_C_mean_centered'].rank(ascending=False)\n",
    "\n",
    "# Sort the DataFrame by rank\n",
    "party_sorted = party.sort_values('rank')\n",
    "# Set the color based on the sign of percent_C_mean_centered\n",
    "colors = [sns.xkcd_rgb['medium green'] if val >= 0 else sns.xkcd_rgb['light red'] for val in party_sorted['percent_C_mean_centered']]\n",
    "plt.figure(figsize=(13, 7))\n",
    "sns.barplot(x='percent_C_mean_centered', y='speaker_party_new', palette=colors, data=party_sorted, orient='h')\n",
    "plt.xlabel('Average % climate related speech items', fontsize=14)\n",
    "plt.xticks(fontsize=14)\n",
    "plt.yticks(fontsize=14)\n",
    "plt.ylabel('')\n",
    "#sns.despine(left=True, top=True, right=True, bottom=True)\n",
    "\n",
    "for i, (val, color, party) in enumerate(zip(party_sorted['percent_C_mean_centered'], colors, party_sorted['speaker_party_new'])):\n",
    "    if party in ['Enhedslisten', 'Radikale Venstre', 'Venstre']:\n",
    "        ha_value = 'right'\n",
    "    else:\n",
    "        ha_value = 'right' if color == sns.xkcd_rgb['medium green'] else 'left'\n",
    "    plt.text(val, i, f'{val:.2f}%', va='center', ha=ha_value, fontsize=14, color='black')\n",
    "    \n",
    "plt.tight_layout()\n",
    "#plt.savefig('./figures/overall_party.svg', format='svg')"
   ]
  }
 ],
 "metadata": {
  "kernelspec": {
   "display_name": "Python 3",
   "language": "python",
   "name": "python3"
  },
  "language_info": {
   "codemirror_mode": {
    "name": "ipython",
    "version": 3
   },
   "file_extension": ".py",
   "mimetype": "text/x-python",
   "name": "python",
   "nbconvert_exporter": "python",
   "pygments_lexer": "ipython3",
   "version": "3.11.5"
  }
 },
 "nbformat": 4,
 "nbformat_minor": 2
}
