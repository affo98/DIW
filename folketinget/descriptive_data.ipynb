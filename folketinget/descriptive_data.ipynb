{
 "cells": [
  {
   "cell_type": "markdown",
   "metadata": {},
   "source": [
    "# Descriptive Data"
   ]
  },
  {
   "cell_type": "code",
   "execution_count": null,
   "metadata": {},
   "outputs": [],
   "source": [
    "import pandas as pd\n",
    "import matplotlib.pyplot as plt\n",
    "import numpy as np\n",
    "import calendar\n",
    "from scipy.stats import spearmanr\n",
    "import seaborn as sns"
   ]
  },
  {
   "cell_type": "code",
   "execution_count": null,
   "metadata": {},
   "outputs": [],
   "source": [
    "dmeeting = pd.read_parquet('./data/data_meeting.parquet')\n",
    "data_agenda1 = pd.read_parquet('./data/data_agenda1.parquet')\n",
    "data_agenda2 = pd.read_parquet('./data/data_agenda2.parquet')\n",
    "data_agenda3 = pd.read_parquet('./data/data_agenda3.parquet')\n",
    "data_speech1 = pd.read_parquet('./data/data_speech1.parquet')\n",
    "data_speech2 = pd.read_parquet('./data/data_speech2.parquet')\n",
    "data_speech3 = pd.read_parquet('./data/data_speech3.parquet')\n",
    "parMem = pd.read_parquet('./data/parliament_members.parquet')\n",
    "\n",
    "dagenda = pd.concat([data_agenda1, data_agenda2, data_agenda3], axis=0)\n",
    "dspeech = pd.concat([data_speech1, data_speech2, data_speech3], axis=0)"
   ]
  },
  {
   "cell_type": "code",
   "execution_count": null,
   "metadata": {},
   "outputs": [],
   "source": [
    "print(dspeech.shape)"
   ]
  },
  {
   "cell_type": "markdown",
   "metadata": {},
   "source": [
    "## Meeting Data"
   ]
  },
  {
   "cell_type": "code",
   "execution_count": null,
   "metadata": {},
   "outputs": [],
   "source": [
    "dmeeting"
   ]
  },
  {
   "cell_type": "code",
   "execution_count": null,
   "metadata": {},
   "outputs": [],
   "source": [
    "print(f\"First Meeting date: {dmeeting['date'].min()}\")\n",
    "print(f\"Last Meeting date: {dmeeting['date'].max()}\")"
   ]
  },
  {
   "cell_type": "code",
   "execution_count": null,
   "metadata": {},
   "outputs": [],
   "source": [
    "year_freq = dmeeting['date'].dt.to_period('Y').value_counts().sort_index()\n",
    "plt.figure(figsize=(10,6))\n",
    "year_freq.plot(kind='line', marker='o')\n",
    "plt.xlabel('Year')\n",
    "plt.ylabel('Number of yearly meetings');"
   ]
  },
  {
   "cell_type": "code",
   "execution_count": null,
   "metadata": {},
   "outputs": [],
   "source": [
    "month_freq = dmeeting.groupby(dmeeting['date'].dt.month).size().sort_index()\n",
    "month_freq\n",
    "plt.figure(figsize=(10,6))\n",
    "month_freq.plot(kind='line', marker='o')\n",
    "plt.xlabel('Month')\n",
    "plt.ylabel('Number of monthly meetings (aggregated by all years)')\n",
    "month_names = [calendar.month_abbr[month] for month in month_freq.index]\n",
    "plt.xticks(month_freq.index, month_names);"
   ]
  },
  {
   "cell_type": "code",
   "execution_count": null,
   "metadata": {},
   "outputs": [],
   "source": [
    "dmeeting['day'].value_counts()"
   ]
  },
  {
   "cell_type": "code",
   "execution_count": null,
   "metadata": {},
   "outputs": [],
   "source": [
    "dmeeting['time_start'].value_counts()[0:10]"
   ]
  },
  {
   "cell_type": "markdown",
   "metadata": {},
   "source": [
    "## Agenda Data"
   ]
  },
  {
   "cell_type": "markdown",
   "metadata": {},
   "source": [
    "Make some extra columns"
   ]
  },
  {
   "cell_type": "code",
   "execution_count": null,
   "metadata": {},
   "outputs": [],
   "source": [
    "data_speech_group = dspeech.groupby([\"meeting_id\", \"agenda_item_id\"])\n",
    "\n",
    "# Add speech items text\n",
    "data_speech_group_text = (\n",
    "data_speech_group[\"speech_item_text\"].apply(lambda x: \" \".join(x)).reset_index()\n",
    ")\n",
    "dagenda = dagenda.merge(\n",
    "data_speech_group_text, on=[\"meeting_id\", \"agenda_item_id\"], how=\"left\"\n",
    ")\n",
    "\n",
    "#Add time_start and time_end from speech_data\n",
    "data_speech_group_time_start = data_speech_group[\"time_start\"].first().reset_index()\n",
    "data_speech_group_time_end = data_speech_group[\"time_end\"].last().reset_index()\n",
    "dagenda = dagenda.merge(\n",
    "data_speech_group_time_start, on=[\"meeting_id\", \"agenda_item_id\"], how=\"left\"\n",
    ")\n",
    "dagenda = dagenda.merge(\n",
    "data_speech_group_time_end, on=[\"meeting_id\", \"agenda_item_id\"], how=\"left\"\n",
    ")\n",
    "\n",
    "# add duration column\n",
    "dagenda[\"time_start_f\"] = pd.to_datetime(\n",
    "dagenda[\"time_start\"], format=\"%H:%M:%S\"\n",
    ")\n",
    "dagenda[\"time_end_f\"] = pd.to_datetime(\n",
    "dagenda[\"time_end\"], format=\"%H:%M:%S\"\n",
    ")\n",
    "\n",
    "dagenda[\"duration\"] = np.where(\n",
    "# if it crosses midnight\n",
    "dagenda[\"time_start_f\"].dt.hour > dagenda[\"time_end_f\"].dt.hour,\n",
    "(\n",
    "pd.to_datetime(\"23:59:59\", format=\"%H:%M:%S\") - dagenda[\"time_start_f\"]\n",
    ").dt.total_seconds()\n",
    "+ (\n",
    "dagenda[\"time_end_f\"] - pd.to_datetime(\"00:00:00\", format=\"%H:%M:%S\")\n",
    ").dt.total_seconds(),\n",
    "# else\n",
    "(dagenda[\"time_end_f\"] - dagenda[\"time_start_f\"]).dt.total_seconds(),\n",
    ")\n",
    "dagenda.drop(columns=[\"time_start_f\", \"time_end_f\"], inplace=True)\n",
    "\n",
    "# add number of words\n",
    "dagenda[\"number_of_words\"] = (\n",
    "dagenda[\"speech_item_text\"].str.split(\" \").apply(len)\n",
    "    )"
   ]
  },
  {
   "cell_type": "code",
   "execution_count": null,
   "metadata": {},
   "outputs": [],
   "source": [
    "dagenda['type'].value_counts()"
   ]
  },
  {
   "cell_type": "code",
   "execution_count": null,
   "metadata": {},
   "outputs": [],
   "source": [
    "dagenda.groupby('type')['number_of_words'].mean().reset_index(name='Mean number of words per agenda item')"
   ]
  },
  {
   "cell_type": "code",
   "execution_count": null,
   "metadata": {},
   "outputs": [],
   "source": [
    "number_of_speech_items_agenda = dspeech.groupby(['meeting_id', 'agenda_item_id']).size().reset_index(name='count')\n",
    "pd.merge(dagenda, number_of_speech_items_agenda).groupby('type')['count'].mean().reset_index(name='Mean number of speech items per agenda item')"
   ]
  },
  {
   "cell_type": "code",
   "execution_count": null,
   "metadata": {},
   "outputs": [],
   "source": [
    "plt.hist(dagenda['duration'], bins = 100);\n",
    "plt.xlabel('Duration in seconds')\n",
    "plt.ylabel('Frequency')\n",
    "dagenda['duration'].describe()"
   ]
  },
  {
   "cell_type": "code",
   "execution_count": null,
   "metadata": {},
   "outputs": [],
   "source": [
    "plt.hist(dagenda['number_of_words'], bins = 100);\n",
    "plt.xlabel('Number of words')\n",
    "plt.ylabel('Frequency')\n",
    "dagenda['number_of_words'].describe()"
   ]
  },
  {
   "cell_type": "code",
   "execution_count": null,
   "metadata": {},
   "outputs": [],
   "source": [
    "plt.scatter(x=dagenda['number_of_words'], y = dagenda['duration'], c=dagenda['type'], s=1, cmap='viridis'));\n",
    "plt.xlabel('Number of words');\n",
    "plt.ylabel('Duration (s)');\n",
    "correlation_coefficient, p_value = spearmanr(dagenda['number_of_words'], dagenda['duration'])\n",
    "print(f\"Spearman correlation coefficient: {correlation_coefficient}\")\n",
    "print(f\"P-value: {p_value}\")"
   ]
  },
  {
   "cell_type": "code",
   "execution_count": null,
   "metadata": {},
   "outputs": [],
   "source": [
    "from matplotlib.dates import DateFormatter\n",
    "import datetime\n",
    "\n",
    "# Assuming 'start_times' and 'end_times' are your columns with start and end times\n",
    "start_times = dagenda['time_start']\n",
    "end_times = dagenda['time_end']\n",
    "\n",
    "# Convert strings to datetime objects\n",
    "start_times = [datetime.datetime.strptime(time, '%H:%M:%S') for time in start_times]\n",
    "end_times = [datetime.datetime.strptime(time, '%H:%M:%S') for time in end_times]\n",
    "\n",
    "# Create a figure and axis\n",
    "fig, ax = plt.subplots()\n",
    "\n",
    "# Plot the time intervals as horizontal lines on a timeline\n",
    "for i, (start, end) in enumerate(zip(start_times, end_times)):\n",
    "    ax.plot([start, end], [i, i], linewidth=1, solid_capstyle=\"butt\", alpha=0.7)\n",
    "\n",
    "# Beautify the plot\n",
    "ax.xaxis_date()\n",
    "ax.xaxis.set_major_formatter(DateFormatter('%H:%M'))\n",
    "#plt.yticks(range(len(start_times)), [f'Task {i+1}' for i in range(len(start_times))])\n",
    "plt.xlabel('Time')\n",
    "plt.ylabel('Agenda Item')\n",
    "plt.title('Timeline of Agenda Time Intervals')\n",
    "plt.grid(axis='x')\n",
    "\n",
    "plt.show()\n"
   ]
  },
  {
   "cell_type": "markdown",
   "metadata": {},
   "source": [
    "## Speech Data"
   ]
  },
  {
   "cell_type": "code",
   "execution_count": null,
   "metadata": {},
   "outputs": [],
   "source": [
    "dspeech"
   ]
  },
  {
   "cell_type": "code",
   "execution_count": null,
   "metadata": {},
   "outputs": [],
   "source": [
    "plt.hist(dspeech['duration'], bins = 100);\n",
    "plt.xlabel('Duration in seconds')\n",
    "plt.ylabel('Frequency')\n",
    "dspeech['duration'].describe()"
   ]
  },
  {
   "cell_type": "code",
   "execution_count": null,
   "metadata": {},
   "outputs": [],
   "source": [
    "plt.hist(dspeech['number_of_words'], bins = 100);\n",
    "plt.xlabel('Number of words')\n",
    "plt.ylabel('Frequency')\n",
    "dspeech['number_of_words'].describe()"
   ]
  },
  {
   "cell_type": "code",
   "execution_count": null,
   "metadata": {},
   "outputs": [],
   "source": [
    "plt.scatter(x=dspeech['number_of_words'], y = dspeech['duration'], s=1);\n",
    "plt.xlabel('Number of words');\n",
    "plt.ylabel('Duration (s)');\n",
    "correlation_coefficient, p_value = spearmanr(dspeech['number_of_words'], dspeech['duration'])\n",
    "print(f\"Spearman correlation coefficient: {correlation_coefficient}\")\n",
    "print(f\"P-value: {p_value}\")"
   ]
  },
  {
   "cell_type": "code",
   "execution_count": null,
   "metadata": {},
   "outputs": [],
   "source": [
    "dspeech['speaker_name'].value_counts()[0:25]"
   ]
  },
  {
   "cell_type": "code",
   "execution_count": null,
   "metadata": {},
   "outputs": [],
   "source": [
    "dspeech['speaker_party'].value_counts()"
   ]
  },
  {
   "cell_type": "code",
   "execution_count": null,
   "metadata": {},
   "outputs": [],
   "source": [
    "dspeech['speaker_role'].value_counts()"
   ]
  },
  {
   "cell_type": "code",
   "execution_count": null,
   "metadata": {},
   "outputs": [],
   "source": [
    "dspeech_year = pd.merge(dspeech, dmeeting[['meeting_id', 'date']])\n",
    "dspeech_year['year'] = dspeech_year['date'].dt.to_period('Y')\n",
    "number_of_speech_years = dspeech_year.groupby('year').size().reset_index(name='number_of_speech_year')\n",
    "party_year = dspeech_year.groupby(['speaker_party', 'year']).size().reset_index(name='Counts')\n",
    "party_year = pd.merge(party_year, number_of_speech_years, on='year')\n",
    "party_year['Percent'] = round((party_year['Counts'] / party_year['number_of_speech_year'])*100, 1)\n",
    "party_year_pivot = party_year.pivot(index='year', columns='speaker_party', values='Percent').fillna(0)\n",
    "\n",
    "ax = party_year_pivot.plot(kind='line', marker='o', figsize=(12, 6))\n",
    "\n",
    "plt.xlabel('Year')\n",
    "plt.ylabel('Percent of speech items')\n",
    "plt.legend(title='Party')\n",
    "ax.legend(title='Party', bbox_to_anchor=(1.0, 1), loc='upper left')\n",
    "plt.tight_layout() \n",
    "plt.show()"
   ]
  },
  {
   "cell_type": "code",
   "execution_count": null,
   "metadata": {
    "vscode": {
     "languageId": "ruby"
    }
   },
   "outputs": [],
   "source": [
    "dspeech_year = pd.merge(dspeech, dmeeting[['meeting_id', 'date']])\n",
    "dspeech_year['year'] = dspeech_year['date'].dt.to_period('Y')\n",
    "dspeech_year = dspeech_year[dspeech_year['speaker_party'].isin(['S', 'DF', 'ALT', 'DD', 'EL', 'FG', 'KD', 'KF', 'LA', 'M', 'NB', 'RV', 'S', 'SF', 'V'])]\n",
    "number_of_speech_years = dspeech_year.groupby('year').size().reset_index(name='number_of_speech_year')\n",
    "party_year = dspeech_year.groupby(['speaker_party', 'year']).size().reset_index(name='Counts')\n",
    "party_year = pd.merge(party_year, number_of_speech_years, on='year')\n",
    "party_year['Percent'] = round((party_year['Counts'] / party_year['number_of_speech_year'])*100, 1)\n",
    "party_year_pivot = party_year.pivot(index='year', columns='speaker_party', values='Percent').fillna(0)\n",
    "\n",
    "ax = party_year_pivot.plot(kind='line', marker='o', figsize=(12, 6))\n",
    "\n",
    "plt.xlabel('Year')\n",
    "plt.ylabel('Percent of speech items')\n",
    "plt.legend(title='Party')\n",
    "ax.legend(title='Party', bbox_to_anchor=(1.0, 1), loc='upper left')\n",
    "plt.tight_layout() \n",
    "plt.show()"
   ]
  },
  {
   "cell_type": "markdown",
   "metadata": {},
   "source": [
    "## Parliament Members"
   ]
  },
  {
   "cell_type": "code",
   "execution_count": null,
   "metadata": {
    "vscode": {
     "languageId": "ruby"
    }
   },
   "outputs": [],
   "source": [
    "parMem"
   ]
  }
 ],
 "metadata": {
  "kernelspec": {
   "display_name": "Python 3",
   "language": "python",
   "name": "python3"
  },
  "language_info": {
   "codemirror_mode": {
    "name": "ipython",
    "version": 3
   },
   "file_extension": ".py",
   "mimetype": "text/x-python",
   "name": "python",
   "nbconvert_exporter": "python",
   "pygments_lexer": "ipython3",
   "version": "3.11.5"
  }
 },
 "nbformat": 4,
 "nbformat_minor": 2
}
