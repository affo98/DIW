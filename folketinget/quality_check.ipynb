{
 "cells": [
  {
   "cell_type": "markdown",
   "metadata": {},
   "source": [
    "# Data Quality Check\n",
    "### This notebook samples a random meeting and compiles the data for that specific meeting and provides a URL to check in a browser whether scraped data aligns with the actual data"
   ]
  },
  {
   "cell_type": "code",
   "execution_count": null,
   "metadata": {},
   "outputs": [],
   "source": [
    "import pandas as pd\n",
    "import random\n",
    "\n",
    "# read the data\n",
    "meeting = pd.read_parquet('./data/data_meeting.parquet')\n",
    "data_agenda1 = pd.read_parquet('./data/data_agenda1.parquet')\n",
    "data_agenda2 = pd.read_parquet('./data/data_agenda2.parquet')\n",
    "data_agenda3 = pd.read_parquet('./data/data_agenda3.parquet')\n",
    "data_speech1 = pd.read_parquet('./data/data_speech1.parquet')\n",
    "data_speech2 = pd.read_parquet('./data/data_speech2.parquet')\n",
    "data_speech3 = pd.read_parquet('./data/data_speech3.parquet')\n",
    "parMem = pd.read_parquet('./data/parliament_members.parquet')\n",
    "\n",
    "agenda = pd.concat([data_agenda1, data_agenda2, data_agenda3], axis=0)\n",
    "speech = pd.concat([data_speech1, data_speech2, data_speech3], axis=0)"
   ]
  },
  {
   "cell_type": "code",
   "execution_count": null,
   "metadata": {},
   "outputs": [],
   "source": [
    "# extract random meeting sample\n",
    "sample_id = random.sample(list(meeting['meeting_id']), 1)\n",
    "sample_url = meeting[meeting['meeting_id']==sample_id[0]]['url'].values[0]\n",
    "\n",
    "# look up all data for the sample meeting\n",
    "sample_agendas = agenda[agenda['meeting_id'].isin(sample_id)]\n",
    "sample_speech = speech[speech['meeting_id'].isin(sample_id)]\n",
    "\n",
    "# subset the data to perform merge and remove noise\n",
    "sample_agendas = sample_agendas[['meeting_id', 'agenda_item_id', 'title', 'type']]\n",
    "sample_speech = sample_speech[['agenda_item_id', 'speech_item_id', 'time_start',\n",
    "       'time_end', 'speaker_name', 'speaker_party', 'speaker_role', 'speech_item_text', 'duration', 'number_of_words']]\n",
    "\n",
    "# merge the sample data\n",
    "sample_data = pd.merge(sample_agendas, sample_speech, on='agenda_item_id', how='inner')\n",
    "# print the url to check in a browser for matching data\n",
    "print(f'url of sample meeting: {sample_url}')\n",
    "\n",
    "# save the sample data to csv \n",
    "#sample_data[['agenda_item_id','speech_item_id','speaker_name','speaker_party','speaker_role','speech_item_text']].to_csv('./data/sample_data.csv', index=False)"
   ]
  },
  {
   "cell_type": "markdown",
   "metadata": {},
   "source": [
    "## Caveats:\n",
    "- Ids on speech items count every second, but still maintains sequential order -> because orator role is removed and starts all meetings from there dictates all talkers.\n",
    "- We have redundant columns in agenda dataframe it should be only :'meeting_id', 'agenda_item_id', 'title', 'type'\n",
    "- We have redundant columns in speech dataframe it should be only: 'agenda_item_id', 'speech_item_id', 'time_start',\n",
    "       'time_end', 'speaker_name', 'speaker_party', 'speaker_role', 'speech_item_text', 'duration', 'number_of_words'.\n",
    "       ('speaker_title' is simply a combination of speaker party and speaker name), i would say its better to have party and name in different fields and remove speaker title.\n",
    "- What type of minister is not specified but only binary of minister or not. e.g. : Indenrigs- og sundhedsministeren (Bertel Haarder): only says \"minister\" in data. taken from https://www.ft.dk/forhandlinger/20101/20101M013_2010-11-05_1000.htm \n",
    "- Agendas are still a bit vague with short title only as it is a subset of the agenda text, for instance: short title from same link is: _1. behandling af \\L 30: Om nedlæggelse af Momsfondet._\n",
    "but the actual agenda is : _\"Forslag til lov om ændring af lov om konkurrencemæssig ligestilling mellem kommuners og regioners egenproduktion og køb af ydelser hos eksterne leverandører i relation til udgifter til merværdiafgift m.v. samt om Momsfondet. (Nedlæggelse af Momsfondet).\"_"
   ]
  }
 ],
 "metadata": {
  "kernelspec": {
   "display_name": "diw_project",
   "language": "python",
   "name": "python3"
  },
  "language_info": {
   "codemirror_mode": {
    "name": "ipython",
    "version": 3
   },
   "file_extension": ".py",
   "mimetype": "text/x-python",
   "name": "python",
   "nbconvert_exporter": "python",
   "pygments_lexer": "ipython3",
   "version": "3.10.4"
  }
 },
 "nbformat": 4,
 "nbformat_minor": 2
}
