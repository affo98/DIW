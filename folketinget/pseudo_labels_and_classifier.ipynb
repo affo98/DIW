{
 "cells": [
  {
   "cell_type": "code",
   "execution_count": 41,
   "metadata": {},
   "outputs": [],
   "source": [
    "import pandas as pd\n",
    "import numpy as np\n",
    "import matplotlib.pyplot as plt\n",
    "from sklearn.model_selection import StratifiedKFold\n",
    "from sklearn.linear_model import (\n",
    "    LogisticRegression,\n",
    "    LogisticRegressionCV\n",
    ")\n",
    "from sklearn.model_selection import(\n",
    "    RepeatedStratifiedKFold,\n",
    "    cross_val_score,\n",
    "    GridSearchCV\n",
    ")\n",
    "import joblib"
   ]
  },
  {
   "cell_type": "code",
   "execution_count": 2,
   "metadata": {},
   "outputs": [],
   "source": [
    "dspeech_tok = pd.read_parquet('./data_additionaal/data_speech_tokenized_all.parquet')"
   ]
  },
  {
   "cell_type": "code",
   "execution_count": 3,
   "metadata": {},
   "outputs": [
    {
     "data": {
      "text/html": [
       "<div>\n",
       "<style scoped>\n",
       "    .dataframe tbody tr th:only-of-type {\n",
       "        vertical-align: middle;\n",
       "    }\n",
       "\n",
       "    .dataframe tbody tr th {\n",
       "        vertical-align: top;\n",
       "    }\n",
       "\n",
       "    .dataframe thead th {\n",
       "        text-align: right;\n",
       "    }\n",
       "</style>\n",
       "<table border=\"1\" class=\"dataframe\">\n",
       "  <thead>\n",
       "    <tr style=\"text-align: right;\">\n",
       "      <th></th>\n",
       "      <th>index</th>\n",
       "      <th>meeting_id</th>\n",
       "      <th>agenda_item_id</th>\n",
       "      <th>speech_item_id</th>\n",
       "      <th>time_start</th>\n",
       "      <th>time_end</th>\n",
       "      <th>speaker_name</th>\n",
       "      <th>speaker_party</th>\n",
       "      <th>speaker_role</th>\n",
       "      <th>speaker_title</th>\n",
       "      <th>duration</th>\n",
       "      <th>number_of_words</th>\n",
       "      <th>id</th>\n",
       "      <th>tokenized_text</th>\n",
       "      <th>s_i_embeddings</th>\n",
       "    </tr>\n",
       "  </thead>\n",
       "  <tbody>\n",
       "    <tr>\n",
       "      <th>0</th>\n",
       "      <td>0</td>\n",
       "      <td>1</td>\n",
       "      <td>1</td>\n",
       "      <td>1</td>\n",
       "      <td>13:00:56</td>\n",
       "      <td>13:01:34</td>\n",
       "      <td>Anne Baastrup</td>\n",
       "      <td>SF</td>\n",
       "      <td>medlem</td>\n",
       "      <td>Anne Baastrup(SF):</td>\n",
       "      <td>38.0</td>\n",
       "      <td>103</td>\n",
       "      <td>1_1</td>\n",
       "      <td>[tak, transportminister, optaget, fik, sikkerh...</td>\n",
       "      <td>[-0.03012336159190454, 0.008577189838433696, -...</td>\n",
       "    </tr>\n",
       "    <tr>\n",
       "      <th>1</th>\n",
       "      <td>1</td>\n",
       "      <td>1</td>\n",
       "      <td>1</td>\n",
       "      <td>3</td>\n",
       "      <td>13:01:38</td>\n",
       "      <td>13:02:11</td>\n",
       "      <td>Hans Christian Schmidt</td>\n",
       "      <td>V</td>\n",
       "      <td>minister</td>\n",
       "      <td>Transportministeren(Hans Christian Schmidt):</td>\n",
       "      <td>33.0</td>\n",
       "      <td>97</td>\n",
       "      <td>1_1</td>\n",
       "      <td>[jamen, godt, spørgsmål, fyn, taler, penge, br...</td>\n",
       "      <td>[-0.025761454500297987, 0.018570666336017894, ...</td>\n",
       "    </tr>\n",
       "    <tr>\n",
       "      <th>2</th>\n",
       "      <td>2</td>\n",
       "      <td>1</td>\n",
       "      <td>1</td>\n",
       "      <td>5</td>\n",
       "      <td>13:02:13</td>\n",
       "      <td>13:02:57</td>\n",
       "      <td>Anne Baastrup</td>\n",
       "      <td>SF</td>\n",
       "      <td>medlem</td>\n",
       "      <td>Anne Baastrup(SF):</td>\n",
       "      <td>44.0</td>\n",
       "      <td>167</td>\n",
       "      <td>1_1</td>\n",
       "      <td>[glad, høre, transportminister, mente, rent, f...</td>\n",
       "      <td>[-0.014099856570510383, 0.0017362934108859918,...</td>\n",
       "    </tr>\n",
       "    <tr>\n",
       "      <th>3</th>\n",
       "      <td>3</td>\n",
       "      <td>1</td>\n",
       "      <td>1</td>\n",
       "      <td>7</td>\n",
       "      <td>13:03:00</td>\n",
       "      <td>13:03:10</td>\n",
       "      <td>Hans Christian Schmidt</td>\n",
       "      <td>V</td>\n",
       "      <td>minister</td>\n",
       "      <td>Transportministeren(Hans Christian Schmidt):</td>\n",
       "      <td>10.0</td>\n",
       "      <td>46</td>\n",
       "      <td>1_1</td>\n",
       "      <td>[jamen, spørgeren, siger, klart, forhandlinger...</td>\n",
       "      <td>[-0.017248643160201027, 0.003410065721254796, ...</td>\n",
       "    </tr>\n",
       "    <tr>\n",
       "      <th>4</th>\n",
       "      <td>4</td>\n",
       "      <td>1</td>\n",
       "      <td>1</td>\n",
       "      <td>9</td>\n",
       "      <td>13:03:12</td>\n",
       "      <td>13:03:17</td>\n",
       "      <td>Anne Baastrup</td>\n",
       "      <td>SF</td>\n",
       "      <td>medlem</td>\n",
       "      <td>Anne Baastrup(SF):</td>\n",
       "      <td>5.0</td>\n",
       "      <td>17</td>\n",
       "      <td>1_1</td>\n",
       "      <td>[rent, spark, sparker, åben, dør, siger, tak, ...</td>\n",
       "      <td>[-0.04360466997604817, 0.011463752947747707, 0...</td>\n",
       "    </tr>\n",
       "    <tr>\n",
       "      <th>...</th>\n",
       "      <td>...</td>\n",
       "      <td>...</td>\n",
       "      <td>...</td>\n",
       "      <td>...</td>\n",
       "      <td>...</td>\n",
       "      <td>...</td>\n",
       "      <td>...</td>\n",
       "      <td>...</td>\n",
       "      <td>...</td>\n",
       "      <td>...</td>\n",
       "      <td>...</td>\n",
       "      <td>...</td>\n",
       "      <td>...</td>\n",
       "      <td>...</td>\n",
       "      <td>...</td>\n",
       "    </tr>\n",
       "    <tr>\n",
       "      <th>332063</th>\n",
       "      <td>369757</td>\n",
       "      <td>1787</td>\n",
       "      <td>22</td>\n",
       "      <td>14</td>\n",
       "      <td>15:57:03</td>\n",
       "      <td>15:57:11</td>\n",
       "      <td>Carina Christensen</td>\n",
       "      <td>KF</td>\n",
       "      <td>minister</td>\n",
       "      <td>Kulturministeren(Carina Christensen):</td>\n",
       "      <td>8.0</td>\n",
       "      <td>24</td>\n",
       "      <td>1787_22</td>\n",
       "      <td>[læst, artikel, børsen, gerne, kigge, leif, la...</td>\n",
       "      <td>[-0.08074926270637661, 0.011464892537333071, 0...</td>\n",
       "    </tr>\n",
       "    <tr>\n",
       "      <th>332064</th>\n",
       "      <td>369758</td>\n",
       "      <td>1787</td>\n",
       "      <td>22</td>\n",
       "      <td>16</td>\n",
       "      <td>15:57:13</td>\n",
       "      <td>15:57:56</td>\n",
       "      <td>Leif Lahn Jensen</td>\n",
       "      <td>S</td>\n",
       "      <td>medlem</td>\n",
       "      <td>Leif Lahn Jensen(S):</td>\n",
       "      <td>43.0</td>\n",
       "      <td>127</td>\n",
       "      <td>1787_22</td>\n",
       "      <td>[set, svar, ministeren, ministeren, kunnet, ge...</td>\n",
       "      <td>[-0.03352984208322596, 0.014101851153100142, -...</td>\n",
       "    </tr>\n",
       "    <tr>\n",
       "      <th>332065</th>\n",
       "      <td>369759</td>\n",
       "      <td>1787</td>\n",
       "      <td>22</td>\n",
       "      <td>18</td>\n",
       "      <td>15:57:58</td>\n",
       "      <td>15:58:51</td>\n",
       "      <td>Carina Christensen</td>\n",
       "      <td>KF</td>\n",
       "      <td>minister</td>\n",
       "      <td>Kulturministeren(Carina Christensen):</td>\n",
       "      <td>53.0</td>\n",
       "      <td>184</td>\n",
       "      <td>1787_22</td>\n",
       "      <td>[kulturinstitutionerne, helhed, mærket, forrin...</td>\n",
       "      <td>[-0.015799299580976367, 0.01443920689780498, 0...</td>\n",
       "    </tr>\n",
       "    <tr>\n",
       "      <th>332066</th>\n",
       "      <td>369760</td>\n",
       "      <td>1787</td>\n",
       "      <td>22</td>\n",
       "      <td>20</td>\n",
       "      <td>15:58:56</td>\n",
       "      <td>16:00:05</td>\n",
       "      <td>Mogens Jensen</td>\n",
       "      <td>S</td>\n",
       "      <td>medlem</td>\n",
       "      <td>Mogens Jensen(S):</td>\n",
       "      <td>69.0</td>\n",
       "      <td>165</td>\n",
       "      <td>1787_22</td>\n",
       "      <td>[altså, ministerens, regnestykke, holder, sige...</td>\n",
       "      <td>[-0.015354743558418704, 0.004704013449554623, ...</td>\n",
       "    </tr>\n",
       "    <tr>\n",
       "      <th>332067</th>\n",
       "      <td>369761</td>\n",
       "      <td>1787</td>\n",
       "      <td>22</td>\n",
       "      <td>22</td>\n",
       "      <td>16:00:06</td>\n",
       "      <td>16:01:08</td>\n",
       "      <td>Carina Christensen</td>\n",
       "      <td>KF</td>\n",
       "      <td>minister</td>\n",
       "      <td>Kulturministeren(Carina Christensen):</td>\n",
       "      <td>62.0</td>\n",
       "      <td>227</td>\n",
       "      <td>1787_22</td>\n",
       "      <td>[hvert, fald, generelle, niveau, stabilt, rigt...</td>\n",
       "      <td>[-0.015970280044712126, 0.010609399754685, 0.0...</td>\n",
       "    </tr>\n",
       "  </tbody>\n",
       "</table>\n",
       "<p>332068 rows × 15 columns</p>\n",
       "</div>"
      ],
      "text/plain": [
       "         index  meeting_id  agenda_item_id  speech_item_id time_start  \\\n",
       "0            0           1               1               1   13:00:56   \n",
       "1            1           1               1               3   13:01:38   \n",
       "2            2           1               1               5   13:02:13   \n",
       "3            3           1               1               7   13:03:00   \n",
       "4            4           1               1               9   13:03:12   \n",
       "...        ...         ...             ...             ...        ...   \n",
       "332063  369757        1787              22              14   15:57:03   \n",
       "332064  369758        1787              22              16   15:57:13   \n",
       "332065  369759        1787              22              18   15:57:58   \n",
       "332066  369760        1787              22              20   15:58:56   \n",
       "332067  369761        1787              22              22   16:00:06   \n",
       "\n",
       "        time_end            speaker_name speaker_party speaker_role  \\\n",
       "0       13:01:34           Anne Baastrup            SF       medlem   \n",
       "1       13:02:11  Hans Christian Schmidt             V     minister   \n",
       "2       13:02:57           Anne Baastrup            SF       medlem   \n",
       "3       13:03:10  Hans Christian Schmidt             V     minister   \n",
       "4       13:03:17           Anne Baastrup            SF       medlem   \n",
       "...          ...                     ...           ...          ...   \n",
       "332063  15:57:11      Carina Christensen            KF     minister   \n",
       "332064  15:57:56        Leif Lahn Jensen             S       medlem   \n",
       "332065  15:58:51      Carina Christensen            KF     minister   \n",
       "332066  16:00:05           Mogens Jensen             S       medlem   \n",
       "332067  16:01:08      Carina Christensen            KF     minister   \n",
       "\n",
       "                                       speaker_title  duration  \\\n",
       "0                                 Anne Baastrup(SF):      38.0   \n",
       "1       Transportministeren(Hans Christian Schmidt):      33.0   \n",
       "2                                 Anne Baastrup(SF):      44.0   \n",
       "3       Transportministeren(Hans Christian Schmidt):      10.0   \n",
       "4                                 Anne Baastrup(SF):       5.0   \n",
       "...                                              ...       ...   \n",
       "332063         Kulturministeren(Carina Christensen):       8.0   \n",
       "332064                          Leif Lahn Jensen(S):      43.0   \n",
       "332065         Kulturministeren(Carina Christensen):      53.0   \n",
       "332066                             Mogens Jensen(S):      69.0   \n",
       "332067         Kulturministeren(Carina Christensen):      62.0   \n",
       "\n",
       "        number_of_words       id  \\\n",
       "0                   103      1_1   \n",
       "1                    97      1_1   \n",
       "2                   167      1_1   \n",
       "3                    46      1_1   \n",
       "4                    17      1_1   \n",
       "...                 ...      ...   \n",
       "332063               24  1787_22   \n",
       "332064              127  1787_22   \n",
       "332065              184  1787_22   \n",
       "332066              165  1787_22   \n",
       "332067              227  1787_22   \n",
       "\n",
       "                                           tokenized_text  \\\n",
       "0       [tak, transportminister, optaget, fik, sikkerh...   \n",
       "1       [jamen, godt, spørgsmål, fyn, taler, penge, br...   \n",
       "2       [glad, høre, transportminister, mente, rent, f...   \n",
       "3       [jamen, spørgeren, siger, klart, forhandlinger...   \n",
       "4       [rent, spark, sparker, åben, dør, siger, tak, ...   \n",
       "...                                                   ...   \n",
       "332063  [læst, artikel, børsen, gerne, kigge, leif, la...   \n",
       "332064  [set, svar, ministeren, ministeren, kunnet, ge...   \n",
       "332065  [kulturinstitutionerne, helhed, mærket, forrin...   \n",
       "332066  [altså, ministerens, regnestykke, holder, sige...   \n",
       "332067  [hvert, fald, generelle, niveau, stabilt, rigt...   \n",
       "\n",
       "                                           s_i_embeddings  \n",
       "0       [-0.03012336159190454, 0.008577189838433696, -...  \n",
       "1       [-0.025761454500297987, 0.018570666336017894, ...  \n",
       "2       [-0.014099856570510383, 0.0017362934108859918,...  \n",
       "3       [-0.017248643160201027, 0.003410065721254796, ...  \n",
       "4       [-0.04360466997604817, 0.011463752947747707, 0...  \n",
       "...                                                   ...  \n",
       "332063  [-0.08074926270637661, 0.011464892537333071, 0...  \n",
       "332064  [-0.03352984208322596, 0.014101851153100142, -...  \n",
       "332065  [-0.015799299580976367, 0.01443920689780498, 0...  \n",
       "332066  [-0.015354743558418704, 0.004704013449554623, ...  \n",
       "332067  [-0.015970280044712126, 0.010609399754685, 0.0...  \n",
       "\n",
       "[332068 rows x 15 columns]"
      ]
     },
     "execution_count": 3,
     "metadata": {},
     "output_type": "execute_result"
    }
   ],
   "source": [
    "dspeech_tok"
   ]
  },
  {
   "cell_type": "markdown",
   "metadata": {},
   "source": [
    "We sample x% of the speech data"
   ]
  },
  {
   "cell_type": "code",
   "execution_count": 4,
   "metadata": {},
   "outputs": [
    {
     "name": "stderr",
     "output_type": "stream",
     "text": [
      "c:\\Users\\ah140\\AppData\\Local\\Programs\\Python\\Python311\\Lib\\site-packages\\sklearn\\model_selection\\_split.py:700: UserWarning: The least populated class in y has only 1 members, which is less than n_splits=2.\n",
      "  warnings.warn(\n"
     ]
    }
   ],
   "source": [
    "X = [0] * len(dspeech_tok)\n",
    "dspeech_tok[\"id\"] = dspeech_tok[\"meeting_id\"].astype(str) + \"_\" + dspeech_tok[\"speaker_party\"].astype(str)\n",
    "stratified_kfold = StratifiedKFold(n_splits=2, shuffle=True, random_state=42)\n",
    "\n",
    "for i, (train_idx, val_idx) in enumerate(stratified_kfold.split(X, dspeech_tok.id.to_list())):\n",
    "    val_index = list(val_idx)\n",
    "    dspeech_tok_sample = dspeech_tok.loc[val_index]\n",
    "    break"
   ]
  },
  {
   "cell_type": "code",
   "execution_count": 5,
   "metadata": {},
   "outputs": [],
   "source": [
    "list_of_words_C = []\n",
    "with open('data/C_word_list.txt', 'r', encoding='utf-8') as file:\n",
    "   for item in file:\n",
    "      list_of_words_C.append(item.strip())\n",
    "   list_of_words_C = set(list_of_words_C)\n",
    "      \n",
    "list_of_words_NC_small = []\n",
    "with open('data/NC_word_list_small.txt', 'r', encoding='utf-8') as file:\n",
    "   for item in file:\n",
    "      list_of_words_NC_small.append(item.strip())\n",
    "   list_of_words_NC_small = set(list_of_words_NC_small)\n",
    "      \n",
    "list_of_words_NC_large = []\n",
    "with open('data/NC_word_list_large.txt', 'r', encoding='utf-8') as file:\n",
    "   for item in file:\n",
    "      list_of_words_NC_large.append(item.strip())\n",
    "   list_of_words_NC_large = set(list_of_words_NC_large)\n",
    "      "
   ]
  },
  {
   "cell_type": "code",
   "execution_count": 6,
   "metadata": {},
   "outputs": [],
   "source": [
    "tokenized_text = dspeech_tok_sample['tokenized_text'].to_list()\n",
    "\n",
    "count_list = []\n",
    "def list_of_words_counts(tok_text):\n",
    "    \n",
    "    for i in range(len(tok_text)):\n",
    "        count_C = 0\n",
    "        count_NC_small = 0\n",
    "        count_NC_large = 0\n",
    "        number_of_tokens = 0\n",
    "    \n",
    "        for j in range(len(tok_text[i])):\n",
    "            if tok_text[i][j] in list_of_words_C:\n",
    "                count_C +=1\n",
    "            elif tok_text[i][j] in list_of_words_NC_small:\n",
    "                count_NC_small += 1\n",
    "            elif tok_text[i][j] in list_of_words_NC_large:\n",
    "                count_NC_large += 1\n",
    "        count_list.append([count_C, count_NC_small, count_NC_large, len(tok_text[i])])\n",
    "    \n",
    "    return count_list\n",
    "\n",
    "\n",
    "count_list = list_of_words_counts(tokenized_text)"
   ]
  },
  {
   "cell_type": "code",
   "execution_count": 7,
   "metadata": {},
   "outputs": [],
   "source": [
    "dspeech_tok_sample[['count_C', 'count_NC_small', 'count_NC_large', 'number_of_tokens']] = count_list \n",
    "dspeech_tok_sample['prop_C'] = dspeech_tok_sample['count_C'] / dspeech_tok_sample['number_of_tokens'] \n",
    "dspeech_tok_sample['prop_NC_small'] = dspeech_tok_sample['count_NC_small'] / dspeech_tok_sample['number_of_tokens'] \n",
    "dspeech_tok_sample['prop_NC_large'] = dspeech_tok_sample['count_NC_large'] / dspeech_tok_sample['number_of_tokens'] "
   ]
  },
  {
   "cell_type": "code",
   "execution_count": 8,
   "metadata": {},
   "outputs": [
    {
     "data": {
      "image/png": "[encoded data removed]",
      "text/plain": [
       "<Figure size 640x480 with 1 Axes>"
      ]
     },
     "metadata": {},
     "output_type": "display_data"
    }
   ],
   "source": [
    "plt.hist(dspeech_tok_sample['prop_C'], range=(0, 0.1), alpha=0.5,  label='count_C')\n",
    "plt.hist(dspeech_tok_sample['prop_NC_small'], range=(0, 0.1), alpha=0.5, label='count_NC_small')\n",
    "\n",
    "# Add labels and title\n",
    "plt.xlabel('Value')\n",
    "plt.ylabel('Frequency')\n",
    "plt.title('Histogram of count_C and count_NC_small');"
   ]
  },
  {
   "cell_type": "code",
   "execution_count": 9,
   "metadata": {},
   "outputs": [],
   "source": [
    "#dspeech_tok_sample[(dspeech_tok_sample['count_C']>=3) &\n",
    "#                   ((dspeech_tok_sample['prop_C']>=0.1) | (dspeech_tok_sample['count_C']>=10)) |\n",
    "#                   (((dspeech_tok_sample['prop_C']>=0.09))&(dspeech_tok_sample['prop_C']>dspeech_tok_sample['prop_NC_small']))]"
   ]
  },
  {
   "cell_type": "code",
   "execution_count": 10,
   "metadata": {},
   "outputs": [
    {
     "name": "stderr",
     "output_type": "stream",
     "text": [
      "C:\\Users\\ah140\\AppData\\Local\\Temp\\ipykernel_17336\\4017187693.py:3: SettingWithCopyWarning: \n",
      "A value is trying to be set on a copy of a slice from a DataFrame.\n",
      "Try using .loc[row_indexer,col_indexer] = value instead\n",
      "\n",
      "See the caveats in the documentation: https://pandas.pydata.org/pandas-docs/stable/user_guide/indexing.html#returning-a-view-versus-a-copy\n",
      "  pseudoC['pseudo_label'] = 'C'\n"
     ]
    }
   ],
   "source": [
    "pseudoC = dspeech_tok_sample[(dspeech_tok_sample['count_C']>=3) &\n",
    "                   ((dspeech_tok_sample['prop_C']>=0.1) | (dspeech_tok_sample['count_C']>=10))]\n",
    "pseudoC['pseudo_label'] = 'C'"
   ]
  },
  {
   "cell_type": "code",
   "execution_count": 11,
   "metadata": {},
   "outputs": [
    {
     "name": "stderr",
     "output_type": "stream",
     "text": [
      "C:\\Users\\ah140\\AppData\\Local\\Temp\\ipykernel_17336\\914257054.py:2: SettingWithCopyWarning: \n",
      "A value is trying to be set on a copy of a slice from a DataFrame.\n",
      "Try using .loc[row_indexer,col_indexer] = value instead\n",
      "\n",
      "See the caveats in the documentation: https://pandas.pydata.org/pandas-docs/stable/user_guide/indexing.html#returning-a-view-versus-a-copy\n",
      "  pseudoNC['pseudo_label'] = 'NC'\n"
     ]
    }
   ],
   "source": [
    "pseudoNC = dspeech_tok_sample[(dspeech_tok_sample['prop_C']<0.01) | (dspeech_tok_sample['count_C']<=2)]\n",
    "pseudoNC['pseudo_label'] = 'NC'\n",
    "pseudoNC = pseudoNC.reset_index(drop=True)"
   ]
  },
  {
   "cell_type": "code",
   "execution_count": 139,
   "metadata": {},
   "outputs": [],
   "source": [
    "def create_training_data(pseudoC_df, pseudoNC_df, ratio):\n",
    "    X = [0] * len(pseudoNC_df)\n",
    "    \n",
    "    nsplits = int(len(pseudoNC_df)/(len(pseudoC_df)*ratio))\n",
    "    pseudoNC_df[\"id\"] = pseudoNC_df[\"meeting_id\"].astype(str) + \"_\" + pseudoNC_df[\"speaker_party\"].astype(str)\n",
    "    stratified_kfold = StratifiedKFold(n_splits=nsplits, shuffle=True, random_state=42)\n",
    "\n",
    "    for i, (train_idx, val_idx) in enumerate(stratified_kfold.split(X, pseudoNC_df.id.to_list())):\n",
    "        val_index = list(val_idx)\n",
    "        pseudoNC_sample = pseudoNC_df.loc[val_index]\n",
    "        break\n",
    "    \n",
    "    training_data = pd.concat([pseudoNC_sample, pseudoC_df])\n",
    "    embeddings = training_data['s_i_embeddings'].apply(lambda x: pd.Series(x))\n",
    "    training_data_raw = pd.concat([embeddings, training_data['pseudo_label']], axis=1).reset_index(drop=True)\n",
    "    return training_data, training_data_raw"
   ]
  },
  {
   "cell_type": "markdown",
   "metadata": {},
   "source": [
    "## Eda on ratio C/NC pseudolabels"
   ]
  },
  {
   "cell_type": "markdown",
   "metadata": {},
   "source": [
    "We think the true proportion of climate speech items is around 2%, meaning a ratio of 1:50"
   ]
  },
  {
   "cell_type": "code",
   "execution_count": 144,
   "metadata": {},
   "outputs": [
    {
     "name": "stderr",
     "output_type": "stream",
     "text": [
      "c:\\Users\\ah140\\AppData\\Local\\Programs\\Python\\Python311\\Lib\\site-packages\\sklearn\\model_selection\\_split.py:700: UserWarning: The least populated class in y has only 1 members, which is less than n_splits=86.\n",
      "  warnings.warn(\n",
      "c:\\Users\\ah140\\AppData\\Local\\Programs\\Python\\Python311\\Lib\\site-packages\\sklearn\\utils\\validation.py:767: FutureWarning: is_sparse is deprecated and will be removed in a future version. Check `isinstance(dtype, pd.SparseDtype)` instead.\n",
      "  if not hasattr(array, \"sparse\") and array.dtypes.apply(is_sparse).any():\n",
      "c:\\Users\\ah140\\AppData\\Local\\Programs\\Python\\Python311\\Lib\\site-packages\\sklearn\\utils\\validation.py:605: FutureWarning: is_sparse is deprecated and will be removed in a future version. Check `isinstance(dtype, pd.SparseDtype)` instead.\n",
      "  if is_sparse(pd_dtype):\n",
      "c:\\Users\\ah140\\AppData\\Local\\Programs\\Python\\Python311\\Lib\\site-packages\\sklearn\\utils\\validation.py:614: FutureWarning: is_sparse is deprecated and will be removed in a future version. Check `isinstance(dtype, pd.SparseDtype)` instead.\n",
      "  if is_sparse(pd_dtype) or not is_extension_array_dtype(pd_dtype):\n",
      "c:\\Users\\ah140\\AppData\\Local\\Programs\\Python\\Python311\\Lib\\site-packages\\sklearn\\linear_model\\_sag.py:350: ConvergenceWarning: The max_iter was reached which means the coef_ did not converge\n",
      "  warnings.warn(\n",
      "c:\\Users\\ah140\\AppData\\Local\\Programs\\Python\\Python311\\Lib\\site-packages\\sklearn\\utils\\validation.py:767: FutureWarning: is_sparse is deprecated and will be removed in a future version. Check `isinstance(dtype, pd.SparseDtype)` instead.\n",
      "  if not hasattr(array, \"sparse\") and array.dtypes.apply(is_sparse).any():\n",
      "c:\\Users\\ah140\\AppData\\Local\\Programs\\Python\\Python311\\Lib\\site-packages\\sklearn\\utils\\validation.py:605: FutureWarning: is_sparse is deprecated and will be removed in a future version. Check `isinstance(dtype, pd.SparseDtype)` instead.\n",
      "  if is_sparse(pd_dtype):\n",
      "c:\\Users\\ah140\\AppData\\Local\\Programs\\Python\\Python311\\Lib\\site-packages\\sklearn\\utils\\validation.py:614: FutureWarning: is_sparse is deprecated and will be removed in a future version. Check `isinstance(dtype, pd.SparseDtype)` instead.\n",
      "  if is_sparse(pd_dtype) or not is_extension_array_dtype(pd_dtype):\n",
      "c:\\Users\\ah140\\AppData\\Local\\Programs\\Python\\Python311\\Lib\\site-packages\\sklearn\\model_selection\\_split.py:700: UserWarning: The least populated class in y has only 1 members, which is less than n_splits=43.\n",
      "  warnings.warn(\n",
      "c:\\Users\\ah140\\AppData\\Local\\Programs\\Python\\Python311\\Lib\\site-packages\\sklearn\\utils\\validation.py:767: FutureWarning: is_sparse is deprecated and will be removed in a future version. Check `isinstance(dtype, pd.SparseDtype)` instead.\n",
      "  if not hasattr(array, \"sparse\") and array.dtypes.apply(is_sparse).any():\n",
      "c:\\Users\\ah140\\AppData\\Local\\Programs\\Python\\Python311\\Lib\\site-packages\\sklearn\\utils\\validation.py:605: FutureWarning: is_sparse is deprecated and will be removed in a future version. Check `isinstance(dtype, pd.SparseDtype)` instead.\n",
      "  if is_sparse(pd_dtype):\n",
      "c:\\Users\\ah140\\AppData\\Local\\Programs\\Python\\Python311\\Lib\\site-packages\\sklearn\\utils\\validation.py:614: FutureWarning: is_sparse is deprecated and will be removed in a future version. Check `isinstance(dtype, pd.SparseDtype)` instead.\n",
      "  if is_sparse(pd_dtype) or not is_extension_array_dtype(pd_dtype):\n",
      "c:\\Users\\ah140\\AppData\\Local\\Programs\\Python\\Python311\\Lib\\site-packages\\sklearn\\linear_model\\_sag.py:350: ConvergenceWarning: The max_iter was reached which means the coef_ did not converge\n",
      "  warnings.warn(\n",
      "c:\\Users\\ah140\\AppData\\Local\\Programs\\Python\\Python311\\Lib\\site-packages\\sklearn\\utils\\validation.py:767: FutureWarning: is_sparse is deprecated and will be removed in a future version. Check `isinstance(dtype, pd.SparseDtype)` instead.\n",
      "  if not hasattr(array, \"sparse\") and array.dtypes.apply(is_sparse).any():\n",
      "c:\\Users\\ah140\\AppData\\Local\\Programs\\Python\\Python311\\Lib\\site-packages\\sklearn\\utils\\validation.py:605: FutureWarning: is_sparse is deprecated and will be removed in a future version. Check `isinstance(dtype, pd.SparseDtype)` instead.\n",
      "  if is_sparse(pd_dtype):\n",
      "c:\\Users\\ah140\\AppData\\Local\\Programs\\Python\\Python311\\Lib\\site-packages\\sklearn\\utils\\validation.py:614: FutureWarning: is_sparse is deprecated and will be removed in a future version. Check `isinstance(dtype, pd.SparseDtype)` instead.\n",
      "  if is_sparse(pd_dtype) or not is_extension_array_dtype(pd_dtype):\n",
      "c:\\Users\\ah140\\AppData\\Local\\Programs\\Python\\Python311\\Lib\\site-packages\\sklearn\\model_selection\\_split.py:700: UserWarning: The least populated class in y has only 1 members, which is less than n_splits=17.\n",
      "  warnings.warn(\n",
      "c:\\Users\\ah140\\AppData\\Local\\Programs\\Python\\Python311\\Lib\\site-packages\\sklearn\\utils\\validation.py:767: FutureWarning: is_sparse is deprecated and will be removed in a future version. Check `isinstance(dtype, pd.SparseDtype)` instead.\n",
      "  if not hasattr(array, \"sparse\") and array.dtypes.apply(is_sparse).any():\n",
      "c:\\Users\\ah140\\AppData\\Local\\Programs\\Python\\Python311\\Lib\\site-packages\\sklearn\\utils\\validation.py:605: FutureWarning: is_sparse is deprecated and will be removed in a future version. Check `isinstance(dtype, pd.SparseDtype)` instead.\n",
      "  if is_sparse(pd_dtype):\n",
      "c:\\Users\\ah140\\AppData\\Local\\Programs\\Python\\Python311\\Lib\\site-packages\\sklearn\\utils\\validation.py:614: FutureWarning: is_sparse is deprecated and will be removed in a future version. Check `isinstance(dtype, pd.SparseDtype)` instead.\n",
      "  if is_sparse(pd_dtype) or not is_extension_array_dtype(pd_dtype):\n",
      "c:\\Users\\ah140\\AppData\\Local\\Programs\\Python\\Python311\\Lib\\site-packages\\sklearn\\linear_model\\_sag.py:350: ConvergenceWarning: The max_iter was reached which means the coef_ did not converge\n",
      "  warnings.warn(\n",
      "c:\\Users\\ah140\\AppData\\Local\\Programs\\Python\\Python311\\Lib\\site-packages\\sklearn\\utils\\validation.py:767: FutureWarning: is_sparse is deprecated and will be removed in a future version. Check `isinstance(dtype, pd.SparseDtype)` instead.\n",
      "  if not hasattr(array, \"sparse\") and array.dtypes.apply(is_sparse).any():\n",
      "c:\\Users\\ah140\\AppData\\Local\\Programs\\Python\\Python311\\Lib\\site-packages\\sklearn\\utils\\validation.py:605: FutureWarning: is_sparse is deprecated and will be removed in a future version. Check `isinstance(dtype, pd.SparseDtype)` instead.\n",
      "  if is_sparse(pd_dtype):\n",
      "c:\\Users\\ah140\\AppData\\Local\\Programs\\Python\\Python311\\Lib\\site-packages\\sklearn\\utils\\validation.py:614: FutureWarning: is_sparse is deprecated and will be removed in a future version. Check `isinstance(dtype, pd.SparseDtype)` instead.\n",
      "  if is_sparse(pd_dtype) or not is_extension_array_dtype(pd_dtype):\n",
      "c:\\Users\\ah140\\AppData\\Local\\Programs\\Python\\Python311\\Lib\\site-packages\\sklearn\\model_selection\\_split.py:700: UserWarning: The least populated class in y has only 1 members, which is less than n_splits=8.\n",
      "  warnings.warn(\n",
      "c:\\Users\\ah140\\AppData\\Local\\Programs\\Python\\Python311\\Lib\\site-packages\\sklearn\\utils\\validation.py:767: FutureWarning: is_sparse is deprecated and will be removed in a future version. Check `isinstance(dtype, pd.SparseDtype)` instead.\n",
      "  if not hasattr(array, \"sparse\") and array.dtypes.apply(is_sparse).any():\n",
      "c:\\Users\\ah140\\AppData\\Local\\Programs\\Python\\Python311\\Lib\\site-packages\\sklearn\\utils\\validation.py:605: FutureWarning: is_sparse is deprecated and will be removed in a future version. Check `isinstance(dtype, pd.SparseDtype)` instead.\n",
      "  if is_sparse(pd_dtype):\n",
      "c:\\Users\\ah140\\AppData\\Local\\Programs\\Python\\Python311\\Lib\\site-packages\\sklearn\\utils\\validation.py:614: FutureWarning: is_sparse is deprecated and will be removed in a future version. Check `isinstance(dtype, pd.SparseDtype)` instead.\n",
      "  if is_sparse(pd_dtype) or not is_extension_array_dtype(pd_dtype):\n",
      "c:\\Users\\ah140\\AppData\\Local\\Programs\\Python\\Python311\\Lib\\site-packages\\sklearn\\linear_model\\_sag.py:350: ConvergenceWarning: The max_iter was reached which means the coef_ did not converge\n",
      "  warnings.warn(\n",
      "c:\\Users\\ah140\\AppData\\Local\\Programs\\Python\\Python311\\Lib\\site-packages\\sklearn\\utils\\validation.py:767: FutureWarning: is_sparse is deprecated and will be removed in a future version. Check `isinstance(dtype, pd.SparseDtype)` instead.\n",
      "  if not hasattr(array, \"sparse\") and array.dtypes.apply(is_sparse).any():\n",
      "c:\\Users\\ah140\\AppData\\Local\\Programs\\Python\\Python311\\Lib\\site-packages\\sklearn\\utils\\validation.py:605: FutureWarning: is_sparse is deprecated and will be removed in a future version. Check `isinstance(dtype, pd.SparseDtype)` instead.\n",
      "  if is_sparse(pd_dtype):\n",
      "c:\\Users\\ah140\\AppData\\Local\\Programs\\Python\\Python311\\Lib\\site-packages\\sklearn\\utils\\validation.py:614: FutureWarning: is_sparse is deprecated and will be removed in a future version. Check `isinstance(dtype, pd.SparseDtype)` instead.\n",
      "  if is_sparse(pd_dtype) or not is_extension_array_dtype(pd_dtype):\n",
      "c:\\Users\\ah140\\AppData\\Local\\Programs\\Python\\Python311\\Lib\\site-packages\\sklearn\\model_selection\\_split.py:700: UserWarning: The least populated class in y has only 1 members, which is less than n_splits=4.\n",
      "  warnings.warn(\n",
      "c:\\Users\\ah140\\AppData\\Local\\Programs\\Python\\Python311\\Lib\\site-packages\\sklearn\\utils\\validation.py:767: FutureWarning: is_sparse is deprecated and will be removed in a future version. Check `isinstance(dtype, pd.SparseDtype)` instead.\n",
      "  if not hasattr(array, \"sparse\") and array.dtypes.apply(is_sparse).any():\n",
      "c:\\Users\\ah140\\AppData\\Local\\Programs\\Python\\Python311\\Lib\\site-packages\\sklearn\\utils\\validation.py:605: FutureWarning: is_sparse is deprecated and will be removed in a future version. Check `isinstance(dtype, pd.SparseDtype)` instead.\n",
      "  if is_sparse(pd_dtype):\n",
      "c:\\Users\\ah140\\AppData\\Local\\Programs\\Python\\Python311\\Lib\\site-packages\\sklearn\\utils\\validation.py:614: FutureWarning: is_sparse is deprecated and will be removed in a future version. Check `isinstance(dtype, pd.SparseDtype)` instead.\n",
      "  if is_sparse(pd_dtype) or not is_extension_array_dtype(pd_dtype):\n",
      "c:\\Users\\ah140\\AppData\\Local\\Programs\\Python\\Python311\\Lib\\site-packages\\sklearn\\linear_model\\_sag.py:350: ConvergenceWarning: The max_iter was reached which means the coef_ did not converge\n",
      "  warnings.warn(\n",
      "c:\\Users\\ah140\\AppData\\Local\\Programs\\Python\\Python311\\Lib\\site-packages\\sklearn\\utils\\validation.py:767: FutureWarning: is_sparse is deprecated and will be removed in a future version. Check `isinstance(dtype, pd.SparseDtype)` instead.\n",
      "  if not hasattr(array, \"sparse\") and array.dtypes.apply(is_sparse).any():\n",
      "c:\\Users\\ah140\\AppData\\Local\\Programs\\Python\\Python311\\Lib\\site-packages\\sklearn\\utils\\validation.py:605: FutureWarning: is_sparse is deprecated and will be removed in a future version. Check `isinstance(dtype, pd.SparseDtype)` instead.\n",
      "  if is_sparse(pd_dtype):\n",
      "c:\\Users\\ah140\\AppData\\Local\\Programs\\Python\\Python311\\Lib\\site-packages\\sklearn\\utils\\validation.py:614: FutureWarning: is_sparse is deprecated and will be removed in a future version. Check `isinstance(dtype, pd.SparseDtype)` instead.\n",
      "  if is_sparse(pd_dtype) or not is_extension_array_dtype(pd_dtype):\n",
      "c:\\Users\\ah140\\AppData\\Local\\Programs\\Python\\Python311\\Lib\\site-packages\\sklearn\\model_selection\\_split.py:700: UserWarning: The least populated class in y has only 1 members, which is less than n_splits=3.\n",
      "  warnings.warn(\n",
      "c:\\Users\\ah140\\AppData\\Local\\Programs\\Python\\Python311\\Lib\\site-packages\\sklearn\\utils\\validation.py:767: FutureWarning: is_sparse is deprecated and will be removed in a future version. Check `isinstance(dtype, pd.SparseDtype)` instead.\n",
      "  if not hasattr(array, \"sparse\") and array.dtypes.apply(is_sparse).any():\n",
      "c:\\Users\\ah140\\AppData\\Local\\Programs\\Python\\Python311\\Lib\\site-packages\\sklearn\\utils\\validation.py:605: FutureWarning: is_sparse is deprecated and will be removed in a future version. Check `isinstance(dtype, pd.SparseDtype)` instead.\n",
      "  if is_sparse(pd_dtype):\n",
      "c:\\Users\\ah140\\AppData\\Local\\Programs\\Python\\Python311\\Lib\\site-packages\\sklearn\\utils\\validation.py:614: FutureWarning: is_sparse is deprecated and will be removed in a future version. Check `isinstance(dtype, pd.SparseDtype)` instead.\n",
      "  if is_sparse(pd_dtype) or not is_extension_array_dtype(pd_dtype):\n",
      "c:\\Users\\ah140\\AppData\\Local\\Programs\\Python\\Python311\\Lib\\site-packages\\sklearn\\linear_model\\_sag.py:350: ConvergenceWarning: The max_iter was reached which means the coef_ did not converge\n",
      "  warnings.warn(\n",
      "c:\\Users\\ah140\\AppData\\Local\\Programs\\Python\\Python311\\Lib\\site-packages\\sklearn\\utils\\validation.py:767: FutureWarning: is_sparse is deprecated and will be removed in a future version. Check `isinstance(dtype, pd.SparseDtype)` instead.\n",
      "  if not hasattr(array, \"sparse\") and array.dtypes.apply(is_sparse).any():\n",
      "c:\\Users\\ah140\\AppData\\Local\\Programs\\Python\\Python311\\Lib\\site-packages\\sklearn\\utils\\validation.py:605: FutureWarning: is_sparse is deprecated and will be removed in a future version. Check `isinstance(dtype, pd.SparseDtype)` instead.\n",
      "  if is_sparse(pd_dtype):\n",
      "c:\\Users\\ah140\\AppData\\Local\\Programs\\Python\\Python311\\Lib\\site-packages\\sklearn\\utils\\validation.py:614: FutureWarning: is_sparse is deprecated and will be removed in a future version. Check `isinstance(dtype, pd.SparseDtype)` instead.\n",
      "  if is_sparse(pd_dtype) or not is_extension_array_dtype(pd_dtype):\n"
     ]
    }
   ],
   "source": [
    "ratios = [1,2,5,10,20,25]\n",
    "props_C = []\n",
    "for ratio in ratios:\n",
    "    #training data\n",
    "    training_data, training_data_raw = create_training_data(pseudoC, pseudoNC, ratio)\n",
    "    X = training_data_raw.drop(\"pseudo_label\", axis=1)\n",
    "    y = np.where(training_data_raw['pseudo_label']=='C',1,0)\n",
    "    \n",
    "    #holdout data\n",
    "    holdout_data = dspeech_tok[~dspeech_tok.set_index(['meeting_id', 'agenda_item_id', 'speech_item_id']).index.isin(training_data.set_index(['meeting_id', 'agenda_item_id', 'speech_item_id']).index)].reset_index(drop=True)\n",
    "    holdout_X = holdout_data['s_i_embeddings'].apply(lambda x: pd.Series(x))\n",
    "    \n",
    "    #fit and predict\n",
    "    clf = LogisticRegression(penalty='elasticnet', C=100, l1_ratio=0.25, n_jobs=-1, random_state=42, solver = 'saga').fit(X,y)\n",
    "    predictions = clf.predict_proba(holdout_X)\n",
    "    holdout_data[['prediction_NC', 'prediction_C']] = predictions\n",
    "    holdout_data['prediction_label'] = np.where(holdout_data['prediction_C']>=0.5, 'C', 'NC')\n",
    "    \n",
    "    props_C.append(len(holdout_data[holdout_data['prediction_label']=='C'])/len(holdout_data))  "
   ]
  },
  {
   "cell_type": "code",
   "execution_count": 149,
   "metadata": {},
   "outputs": [
    {
     "data": {
      "text/plain": [
       "[0.06682015720598491,\n",
       " 0.05188973966309342,\n",
       " 0.034534029063569546,\n",
       " 0.026647627274895724,\n",
       " 0.019331410872583575,\n",
       " 0.017531506156790524]"
      ]
     },
     "execution_count": 149,
     "metadata": {},
     "output_type": "execute_result"
    }
   ],
   "source": [
    "props_C"
   ]
  },
  {
   "cell_type": "code",
   "execution_count": 148,
   "metadata": {},
   "outputs": [
    {
     "ename": "ValueError",
     "evalue": "too many values to unpack (expected 2)",
     "output_type": "error",
     "traceback": [
      "\u001b[1;31m---------------------------------------------------------------------------\u001b[0m",
      "\u001b[1;31mValueError\u001b[0m                                Traceback (most recent call last)",
      "\u001b[1;32mc:\\Users\\ah140\\OneDrive\\itu\\1_semester\\data_in_the_wild\\project\\DIW\\folketinget\\pseudo_labels_and_classifier.ipynb Cell 18\u001b[0m line \u001b[0;36m1\n\u001b[1;32m----> <a href='vscode-notebook-cell:/c%3A/Users/ah140/OneDrive/itu/1_semester/data_in_the_wild/project/DIW/folketinget/pseudo_labels_and_classifier.ipynb#Y110sZmlsZQ%3D%3D?line=0'>1</a>\u001b[0m \u001b[39mprint\u001b[39m([\u001b[39mf\u001b[39;49m\u001b[39m\"\u001b[39;49m\u001b[39mRatio \u001b[39;49m\u001b[39m{\u001b[39;49;00mratio\u001b[39m}\u001b[39;49;00m\u001b[39m, Proportion of C: \u001b[39;49m\u001b[39m{\u001b[39;49;00mprop_C\u001b[39m}\u001b[39;49;00m\u001b[39m\"\u001b[39;49m \u001b[39mfor\u001b[39;49;00m (ratio, prop_C) \u001b[39min\u001b[39;49;00m (ratios, props_C)])  \n",
      "\u001b[1;32mc:\\Users\\ah140\\OneDrive\\itu\\1_semester\\data_in_the_wild\\project\\DIW\\folketinget\\pseudo_labels_and_classifier.ipynb Cell 18\u001b[0m line \u001b[0;36m1\n\u001b[1;32m----> <a href='vscode-notebook-cell:/c%3A/Users/ah140/OneDrive/itu/1_semester/data_in_the_wild/project/DIW/folketinget/pseudo_labels_and_classifier.ipynb#Y110sZmlsZQ%3D%3D?line=0'>1</a>\u001b[0m \u001b[39mprint\u001b[39m([\u001b[39mf\u001b[39m\u001b[39m\"\u001b[39m\u001b[39mRatio \u001b[39m\u001b[39m{\u001b[39;00mratio\u001b[39m}\u001b[39;00m\u001b[39m, Proportion of C: \u001b[39m\u001b[39m{\u001b[39;00mprop_C\u001b[39m}\u001b[39;00m\u001b[39m\"\u001b[39m \u001b[39mfor\u001b[39;00m (ratio, prop_C) \u001b[39min\u001b[39;00m (ratios, props_C)])  \n",
      "\u001b[1;31mValueError\u001b[0m: too many values to unpack (expected 2)"
     ]
    }
   ],
   "source": [
    "print([f\"Ratio {ratio}, Proportion of C: {prop_C}\" for (ratio, prop_C) in (ratios, props_C)])  "
   ]
  },
  {
   "cell_type": "markdown",
   "metadata": {},
   "source": [
    "## Classifier"
   ]
  },
  {
   "cell_type": "code",
   "execution_count": 129,
   "metadata": {},
   "outputs": [
    {
     "name": "stderr",
     "output_type": "stream",
     "text": [
      "c:\\Users\\ah140\\AppData\\Local\\Programs\\Python\\Python311\\Lib\\site-packages\\sklearn\\model_selection\\_split.py:700: UserWarning: The least populated class in y has only 1 members, which is less than n_splits=8.\n",
      "  warnings.warn(\n"
     ]
    }
   ],
   "source": [
    "training_data, training_data_raw = create_training_data(pseudoC, pseudoNC, 10)"
   ]
  },
  {
   "cell_type": "code",
   "execution_count": 65,
   "metadata": {},
   "outputs": [],
   "source": [
    "repeated_cv = StratifiedKFold(n_splits=5, shuffle=True, random_state=42)"
   ]
  },
  {
   "cell_type": "code",
   "execution_count": 71,
   "metadata": {},
   "outputs": [],
   "source": [
    "X = training_data_raw.drop(\"pseudo_label\", axis=1)\n",
    "y = np.where(training_data_raw['pseudo_label']=='C',1,0)"
   ]
  },
  {
   "cell_type": "code",
   "execution_count": 73,
   "metadata": {},
   "outputs": [
    {
     "name": "stderr",
     "output_type": "stream",
     "text": [
      "c:\\Users\\ah140\\AppData\\Local\\Programs\\Python\\Python311\\Lib\\site-packages\\sklearn\\utils\\validation.py:767: FutureWarning: is_sparse is deprecated and will be removed in a future version. Check `isinstance(dtype, pd.SparseDtype)` instead.\n",
      "  if not hasattr(array, \"sparse\") and array.dtypes.apply(is_sparse).any():\n",
      "c:\\Users\\ah140\\AppData\\Local\\Programs\\Python\\Python311\\Lib\\site-packages\\sklearn\\utils\\validation.py:605: FutureWarning: is_sparse is deprecated and will be removed in a future version. Check `isinstance(dtype, pd.SparseDtype)` instead.\n",
      "  if is_sparse(pd_dtype):\n",
      "c:\\Users\\ah140\\AppData\\Local\\Programs\\Python\\Python311\\Lib\\site-packages\\sklearn\\utils\\validation.py:614: FutureWarning: is_sparse is deprecated and will be removed in a future version. Check `isinstance(dtype, pd.SparseDtype)` instead.\n",
      "  if is_sparse(pd_dtype) or not is_extension_array_dtype(pd_dtype):\n",
      "c:\\Users\\ah140\\AppData\\Local\\Programs\\Python\\Python311\\Lib\\site-packages\\sklearn\\linear_model\\_sag.py:350: ConvergenceWarning: The max_iter was reached which means the coef_ did not converge\n",
      "  warnings.warn(\n"
     ]
    }
   ],
   "source": [
    "#defining a dictionary parameters to search\n",
    "parameters = [{\"C\": np.logspace(-1,3,5), \n",
    "            \"penalty\": ['l1', 'l2', 'elasticnet', 'none'],\n",
    "            'l1_ratio': np.linspace(0,1,5)}]\n",
    "\n",
    "#making the gridsearch and fitting features and target\n",
    "best_model = GridSearchCV(\n",
    "                    estimator = LogisticRegression(solver = 'saga',\n",
    "                                n_jobs=-1,\n",
    "                                random_state=42),\n",
    "                    param_grid = parameters,\n",
    "                    scoring = 'f1',\n",
    "                    n_jobs = -1,\n",
    "                    cv=repeated_cv, \n",
    "                    refit = True).fit(X, y)"
   ]
  },
  {
   "cell_type": "code",
   "execution_count": 74,
   "metadata": {},
   "outputs": [
    {
     "data": {
      "text/plain": [
       "{'C': 100.0, 'l1_ratio': 0.25, 'penalty': 'elasticnet'}"
      ]
     },
     "execution_count": 74,
     "metadata": {},
     "output_type": "execute_result"
    }
   ],
   "source": [
    "best_model.best_params_"
   ]
  },
  {
   "cell_type": "markdown",
   "metadata": {},
   "source": [
    "## Predictions"
   ]
  },
  {
   "cell_type": "code",
   "execution_count": 85,
   "metadata": {},
   "outputs": [],
   "source": [
    "holdout_data = dspeech_tok[~dspeech_tok.set_index(['meeting_id', 'agenda_item_id', 'speech_item_id']).index.isin(training_data.set_index(['meeting_id', 'agenda_item_id', 'speech_item_id']).index)].reset_index(drop=True)\n",
    "holdout_X = holdout_data['s_i_embeddings'].apply(lambda x: pd.Series(x))"
   ]
  },
  {
   "cell_type": "code",
   "execution_count": 117,
   "metadata": {},
   "outputs": [
    {
     "name": "stderr",
     "output_type": "stream",
     "text": [
      "c:\\Users\\ah140\\AppData\\Local\\Programs\\Python\\Python311\\Lib\\site-packages\\sklearn\\utils\\validation.py:767: FutureWarning: is_sparse is deprecated and will be removed in a future version. Check `isinstance(dtype, pd.SparseDtype)` instead.\n",
      "  if not hasattr(array, \"sparse\") and array.dtypes.apply(is_sparse).any():\n",
      "c:\\Users\\ah140\\AppData\\Local\\Programs\\Python\\Python311\\Lib\\site-packages\\sklearn\\utils\\validation.py:605: FutureWarning: is_sparse is deprecated and will be removed in a future version. Check `isinstance(dtype, pd.SparseDtype)` instead.\n",
      "  if is_sparse(pd_dtype):\n",
      "c:\\Users\\ah140\\AppData\\Local\\Programs\\Python\\Python311\\Lib\\site-packages\\sklearn\\utils\\validation.py:614: FutureWarning: is_sparse is deprecated and will be removed in a future version. Check `isinstance(dtype, pd.SparseDtype)` instead.\n",
      "  if is_sparse(pd_dtype) or not is_extension_array_dtype(pd_dtype):\n"
     ]
    }
   ],
   "source": [
    "predictions = best_model.predict_proba(holdout_X)\n",
    "holdout_data[['prediction_NC', 'prediction_C']] = predictions\n",
    "holdout_data['prediction_label'] = np.where(holdout_data['prediction_C']>=0.5, 'C', 'NC')"
   ]
  },
  {
   "cell_type": "code",
   "execution_count": 118,
   "metadata": {},
   "outputs": [
    {
     "data": {
      "text/plain": [
       "0.026647627274895724"
      ]
     },
     "execution_count": 118,
     "metadata": {},
     "output_type": "execute_result"
    }
   ],
   "source": [
    "len(holdout_data[holdout_data['prediction_label']=='C'])/len(holdout_data)"
   ]
  },
  {
   "cell_type": "code",
   "execution_count": 1,
   "metadata": {},
   "outputs": [
    {
     "ename": "NameError",
     "evalue": "name 'pd' is not defined",
     "output_type": "error",
     "traceback": [
      "\u001b[1;31m---------------------------------------------------------------------------\u001b[0m",
      "\u001b[1;31mNameError\u001b[0m                                 Traceback (most recent call last)",
      "\u001b[1;32mc:\\Users\\ah140\\OneDrive\\itu\\1_semester\\data_in_the_wild\\project\\DIW\\folketinget\\pseudo_labels_and_classifier.ipynb Cell 29\u001b[0m line \u001b[0;36m1\n\u001b[1;32m----> <a href='vscode-notebook-cell:/c%3A/Users/ah140/OneDrive/itu/1_semester/data_in_the_wild/project/DIW/folketinget/pseudo_labels_and_classifier.ipynb#X40sZmlsZQ%3D%3D?line=0'>1</a>\u001b[0m pd\u001b[39m.\u001b[39mset_option(\u001b[39m'\u001b[39m\u001b[39mdisplay.max_colwidth\u001b[39m\u001b[39m'\u001b[39m, \u001b[39m225\u001b[39m)\n\u001b[0;32m      <a href='vscode-notebook-cell:/c%3A/Users/ah140/OneDrive/itu/1_semester/data_in_the_wild/project/DIW/folketinget/pseudo_labels_and_classifier.ipynb#X40sZmlsZQ%3D%3D?line=1'>2</a>\u001b[0m holdout_data[holdout_data[\u001b[39m'\u001b[39m\u001b[39mprediction_label\u001b[39m\u001b[39m'\u001b[39m]\u001b[39m==\u001b[39m\u001b[39m'\u001b[39m\u001b[39mC\u001b[39m\u001b[39m'\u001b[39m][\u001b[39m'\u001b[39m\u001b[39mtokenized_text\u001b[39m\u001b[39m'\u001b[39m][\u001b[39m150\u001b[39m:\u001b[39m200\u001b[39m]\n",
      "\u001b[1;31mNameError\u001b[0m: name 'pd' is not defined"
     ]
    }
   ],
   "source": [
    "pd.set_option('display.max_colwidth', 225)\n",
    "holdout_data[holdout_data['prediction_label']=='C']['tokenized_text'][150:200]"
   ]
  },
  {
   "cell_type": "code",
   "execution_count": 115,
   "metadata": {},
   "outputs": [
    {
     "data": {
      "text/plain": [
       "speaker_party\n",
       "S      65720\n",
       "V      57940\n",
       "DF     40970\n",
       "EL     34686\n",
       "SF     27302\n",
       "KF     23810\n",
       "RV     20808\n",
       "LA     16792\n",
       "ALT     7987\n",
       "NB      5090\n",
       "UFG     1831\n",
       "DD      1404\n",
       "M       1255\n",
       "IA      1165\n",
       "KD       732\n",
       "FG       548\n",
       "SIU      535\n",
       "JF       464\n",
       "NY       418\n",
       "SP       327\n",
       "T        241\n",
       "TF       122\n",
       "NQ        87\n",
       "Name: count, dtype: int64"
      ]
     },
     "execution_count": 115,
     "metadata": {},
     "output_type": "execute_result"
    }
   ],
   "source": [
    "pd.set_option('display.max_colwidth', 50)\n",
    "holdout_data['speaker_party'].value_counts()"
   ]
  },
  {
   "cell_type": "code",
   "execution_count": 116,
   "metadata": {},
   "outputs": [
    {
     "data": {
      "text/plain": [
       "speaker_party\n",
       "V      990\n",
       "S      944\n",
       "EL     649\n",
       "SF     564\n",
       "ALT    433\n",
       "RV     400\n",
       "KF     299\n",
       "DF     275\n",
       "LA     225\n",
       "NB      75\n",
       "M       46\n",
       "FG      31\n",
       "UFG     29\n",
       "DD      13\n",
       "IA       9\n",
       "T        7\n",
       "SIU      5\n",
       "SP       4\n",
       "JF       2\n",
       "NQ       1\n",
       "TF       1\n",
       "KD       1\n",
       "Name: count, dtype: int64"
      ]
     },
     "execution_count": 116,
     "metadata": {},
     "output_type": "execute_result"
    }
   ],
   "source": [
    "holdout_data[holdout_data['prediction_label']=='C']['speaker_party'].value_counts()"
   ]
  }
 ],
 "metadata": {
  "kernelspec": {
   "display_name": "Python 3",
   "language": "python",
   "name": "python3"
  },
  "language_info": {
   "codemirror_mode": {
    "name": "ipython",
    "version": 3
   },
   "file_extension": ".py",
   "mimetype": "text/x-python",
   "name": "python",
   "nbconvert_exporter": "python",
   "pygments_lexer": "ipython3",
   "version": "3.11.5"
  }
 },
 "nbformat": 4,
 "nbformat_minor": 2
}
